{
 "cells": [
  {
   "cell_type": "markdown",
   "metadata": {},
   "source": [
    "# PageRank algorithm using MapReduce"
   ]
  },
  {
   "cell_type": "code",
   "execution_count": 1,
   "metadata": {},
   "outputs": [
    {
     "name": "stdout",
     "output_type": "stream",
     "text": [
      "Successfully parsed './data/padgett.xml' and created './data/padgett_input.txt'.\n",
      "Found 16 nodes and 40 marriage links.\n",
      "file saved: ./data/padgett_input.txt\n"
     ]
    }
   ],
   "source": [
    "import xml.etree.ElementTree as ET\n",
    "import os # Optional: to check if file exists\n",
    "\n",
    "def parse_padgett_data(xml_file_path: str, output_txt_path: str):\n",
    "    \"\"\"\n",
    "    Parses the Padgett Florentine families XML file to extract nodes\n",
    "    and marriage links (PADGM network with value=1.0), writing them\n",
    "    to a text file suitable for MRJob input.\n",
    "\n",
    "    Format:\n",
    "        NODE_ID\\t!NODE  (for declaring all nodes)\n",
    "        SOURCE_ID\\tTARGET_ID (for representing marriage links)\n",
    "\n",
    "    Args:\n",
    "        xml_file_path (str): Path to the input padgett.xml file.\n",
    "        output_txt_path (str): Path where the output .txt file will be saved.\n",
    "    \"\"\"\n",
    "    nodes = set()\n",
    "    edges = []\n",
    "\n",
    "    try:\n",
    "        if not os.path.exists(xml_file_path):\n",
    "             print(f\"Error: Input file not found at {xml_file_path}\")\n",
    "             return False\n",
    "\n",
    "        # Parse the XML tree\n",
    "        tree = ET.parse(xml_file_path)\n",
    "        root = tree.getroot()\n",
    "\n",
    "        # --- Extract all node IDs ---\n",
    "        # Find the 'agent' nodeclass and extract all node IDs within it\n",
    "        agent_nodes = root.findall(\"./MetaNetwork/nodes/nodeclass[@type='agent']/node\")\n",
    "        for node in agent_nodes:\n",
    "            node_id = node.get('id')\n",
    "            if node_id:\n",
    "                nodes.add(node_id)\n",
    "\n",
    "        # --- Extract relevant links (marriage network PADGM, value=1.0000) ---\n",
    "        marriage_links = root.findall(\"./MetaNetwork/networks/network[@id='PADGM']/link\")\n",
    "        for link in marriage_links:\n",
    "            source = link.get('source')\n",
    "            target = link.get('target')\n",
    "            value = link.get('value')\n",
    "\n",
    "            # Only consider links with value 1.0000 and where source/target exist\n",
    "            if value == \"1.0000\" and source and target:\n",
    "                if source in nodes and target in nodes:\n",
    "                    edges.append((source, target))\n",
    "\n",
    "        with open(output_txt_path, 'w') as f_out:\n",
    "            for node_id in sorted(list(nodes)): # Sorting is nice but not required\n",
    "                f_out.write(f\"{node_id}\\t!NODE\\n\")\n",
    "\n",
    "            for source, target in edges:\n",
    "                f_out.write(f\"{source}\\t{target}\\n\")\n",
    "\n",
    "        print(f\"Successfully parsed '{xml_file_path}' and created '{output_txt_path}'.\")\n",
    "        print(f\"Found {len(nodes)} nodes and {len(edges)} marriage links.\")\n",
    "        return True\n",
    "\n",
    "    except ET.ParseError as e:\n",
    "        print(f\"Error parsing XML file '{xml_file_path}': {e}\")\n",
    "        return False\n",
    "    except IOError as e:\n",
    "        print(f\"Error writing to output file '{output_txt_path}': {e}\")\n",
    "        return False\n",
    "    except Exception as e:\n",
    "        print(f\"An unexpected error occurred: {e}\")\n",
    "        return False\n",
    "\n",
    "input_xml = './data/padgett.xml'\n",
    "output_txt = './data/padgett_input.txt' # Name for the generated file\n",
    "\n",
    "if parse_padgett_data(input_xml, output_txt):\n",
    "    print(f\"file saved: {output_txt}\")"
   ]
  }
 ],
 "metadata": {
  "kernelspec": {
   "display_name": "page_rank",
   "language": "python",
   "name": "python3"
  },
  "language_info": {
   "codemirror_mode": {
    "name": "ipython",
    "version": 3
   },
   "file_extension": ".py",
   "mimetype": "text/x-python",
   "name": "python",
   "nbconvert_exporter": "python",
   "pygments_lexer": "ipython3",
   "version": "3.11.11"
  }
 },
 "nbformat": 4,
 "nbformat_minor": 2
}
